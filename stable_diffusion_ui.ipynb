{
  "cells": [
    {
      "cell_type": "markdown",
      "metadata": {
        "colab_type": "text",
        "id": "view-in-github"
      },
      "source": [
        "<a href=\"https://colab.research.google.com/github/sagiodev/stablediffusion_webui/blob/master/StableDiffusionUI_ngrok_sagiodev.ipynb\" target=\"_parent\"><img src=\"https://colab.research.google.com/assets/colab-badge.svg\" alt=\"Open In Colab\"/></a>"
      ]
    },
    {
      "attachments": {},
      "cell_type": "markdown",
      "metadata": {
        "id": "pAVpv903OEoW"
      },
      "source": [
        "## Stable Diffusion for colab by abjilox\n",
        "\n",
        "### This implements [AUTOMATIC1111 Stable Diffusion Web UI](https://github.com/AUTOMATIC1111/stable-diffusion-webui) in colab\n",
        "\n",
        "Latest version of this notebook can be found at [here](https://colab.research.google.com/github/abjilox/stablediffusion_colab/blob/main/stable_diffusion_ui.ipynb).\n",
        "\n",
        "\n",
        "ngrok can be used optional\n",
        "\n",
        "\n",
        "\n"
      ]
    },
    {
      "cell_type": "code",
      "execution_count": null,
      "metadata": {
        "cellView": "form",
        "id": "gJBtadxGOK7b"
      },
      "outputs": [],
      "source": [
        "import os, subprocess, time, glob\n",
        "installation_path = 'SD' #@param {type:\"string\"}\n",
        "username='hello' #@param {type:\"string\"}\n",
        "password='world' #@param {type:\"string\"}\n",
        "ngrok_token ='' #@param {type: \"string\"}\n",
        "use_google_drive = True #@param {type: \"boolean\"}\n",
        "\n",
        "root_path = '/content/' + installation_path\n",
        "\n",
        "if use_google_drive:\n",
        "  drive.mount('/content/drive') \n",
        "  root_path = '/content/drive/MyDrive/' + installation_path\n",
        " \n",
        "\n",
        "!mkdir -p {root_path}\n",
        "os.chdir(root_path)\n",
        "\n",
        "!git clone --depth=1 --branch=master https://github.com/abjilox/stable-diffusion-webui \n",
        "%pip install -q xformers\n",
        "%pip install pyngrok\n",
        "\n",
        "# fix torch, torchvision version mismatch error\n",
        "# !pip install torch==1.13.1+cu117 torchvision==0.14.1+cu117 torchtext==0.14.1 torchaudio==0.13.1 torchdata==0.5.1 --extra-index-url https://download.pytorch.org/whl/cu117\n",
        "\n",
        "# A1111 first launch\n",
        "%cd {root_path}/stable-diffusion-webui\n",
        "\n",
        "!COMMANDLINE_ARGS=\"--exit\"  python launch.py\n",
        "\n",
        "%cd {root_path}/stable-diffusion-webui  \n",
        "args = f'--gradio-img2img-tool color-sketch --enable-insecure-extension-access --gradio-queue --xformers'\n",
        "\n",
        "if ngrok_token:\n",
        "  args += f' --ngrok {ngrok_token} '\n",
        "else:\n",
        "  args += ' --share '\n",
        "if username and password:\n",
        "  args += f' --gradio-auth {username}:{password} '\n",
        "print(f'WEBUI ARGUMENTS: {args}')\n",
        "!python {root_path}/stable-diffusion-webui/launch.py {args}"
      ]
    }
  ],
  "metadata": {
    "accelerator": "GPU",
    "colab": {
      "include_colab_link": true,
      "machine_shape": "hm",
      "private_outputs": true,
      "provenance": []
    },
    "gpuClass": "standard",
    "kernelspec": {
      "display_name": "Python 3",
      "name": "python3"
    },
    "language_info": {
      "name": "python"
    }
  },
  "nbformat": 4,
  "nbformat_minor": 0
}
